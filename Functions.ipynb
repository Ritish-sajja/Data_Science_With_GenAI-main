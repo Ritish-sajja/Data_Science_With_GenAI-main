{
 "cells": [
  {
   "cell_type": "markdown",
   "metadata": {},
   "source": [
    "## Theory Questions:\n",
    "\n",
    "### 1. What is the difference between a function and a method in Python?   "
   ]
  },
  {
   "cell_type": "code",
   "execution_count": 1,
   "metadata": {},
   "outputs": [
    {
     "name": "stdout",
     "output_type": "stream",
     "text": [
      "8\n"
     ]
    }
   ],
   "source": [
    "# In python both function and method are callable objects that performs some specific action, but they are different in context and how they are used.\n",
    "# 1. Function:- It is a block of code which is used for doing some specific tasks. It is defined using the (def) keyword. They can take arguments and return values.\n",
    "\n",
    "def add(a, b):\n",
    "    return a + b\n",
    "\n",
    "result = add(3, 5)  # Calling the function directly\n",
    "print(result)  # Output: 8"
   ]
  },
  {
   "cell_type": "code",
   "execution_count": 2,
   "metadata": {},
   "outputs": [
    {
     "name": "stdout",
     "output_type": "stream",
     "text": [
      "Hello!\n"
     ]
    }
   ],
   "source": [
    "# A method is a function that is associated with an object and defined within a class. Uses def keyword within a class. It Called on an object using dot notation\n",
    "# for e.g\n",
    "class Person:\n",
    "    def greet(self):\n",
    "        return \"Hello!\"\n",
    "\n",
    "person = Person()\n",
    "print(person.greet())"
   ]
  },
  {
   "cell_type": "markdown",
   "metadata": {},
   "source": [
    "### 2. Explain the concept of function arguments and parameters in Python.\n",
    "    - Parameters are placeholders defined in the function for e.g: - def greet(name) here name is a parameter.\n",
    "    - Arguments are the actual values or data passed to the function when it is called. they are specified inside the parenthesis during the function call.\n",
    "    for e.g greet(\"Shubham\") here Shubham is the argument passed to the function greet().\n",
    "\n",
    "### 3. What are the different ways to define and call a function in Python?"
   ]
  },
  {
   "cell_type": "code",
   "execution_count": null,
   "metadata": {},
   "outputs": [
    {
     "name": "stdout",
     "output_type": "stream",
     "text": [
      "Hello, Shubham!\n"
     ]
    }
   ],
   "source": [
    "# 1. Standard Function:- Defined using the (def) keyword. It can take positional or keyword arguments and it is called by using function name followed by parentheses.\n",
    "def greet(name):\n",
    "    print(f\"Hello, {name}!\")\n",
    "\n",
    "# Function call\n",
    "greet(\"Shubham\")"
   ]
  },
  {
   "cell_type": "code",
   "execution_count": 5,
   "metadata": {},
   "outputs": [
    {
     "name": "stdout",
     "output_type": "stream",
     "text": [
      "Name: Shubham, Age: 18\n"
     ]
    }
   ],
   "source": [
    "# 2. Function with Default Arguments:- It provides default values to parameters. If there is no argument is by passed by user in the runtime then, the default value is used.\n",
    "def introduce(name, age=18):\n",
    "    print(f\"Name: {name}, Age: {age}\")\n",
    "\n",
    "# Function call\n",
    "introduce(\"Shubham\")"
   ]
  },
  {
   "cell_type": "code",
   "execution_count": 6,
   "metadata": {},
   "outputs": [
    {
     "name": "stdout",
     "output_type": "stream",
     "text": [
      "Name: Shubham, Age: 19, City: Bilaspur (H.P)\n"
     ]
    }
   ],
   "source": [
    "# 3. Function with Keyword Arguments:- Arguments are passed with the parameter names. The order doesn't matter\n",
    "def display_info(name, age, city):\n",
    "    print(f\"Name: {name}, Age: {age}, City: {city}\")\n",
    "\n",
    "# Function Call\n",
    "display_info(\"Shubham\",19,\"Bilaspur (H.P)\")"
   ]
  },
  {
   "cell_type": "code",
   "execution_count": 7,
   "metadata": {},
   "outputs": [
    {
     "data": {
      "text/plain": [
       "15"
      ]
     },
     "execution_count": 7,
     "metadata": {},
     "output_type": "execute_result"
    }
   ],
   "source": [
    "# 4. Variable-Length Arguments (*args):- It is used to pass a variable number of positional arguments. collected as a tuple inside the function.\n",
    "def add(*args):\n",
    "    return sum(args)\n",
    "\n",
    "# Function Call\n",
    "add(1,2,3,4,5)"
   ]
  },
  {
   "cell_type": "code",
   "execution_count": 9,
   "metadata": {},
   "outputs": [
    {
     "name": "stdout",
     "output_type": "stream",
     "text": [
      "name: Shubham Sharma\n",
      "age: 19\n",
      "city: Bilaspur (H.P)\n"
     ]
    }
   ],
   "source": [
    "# 5. Variable-Length Keyword Arguments (**kwargs):- It is used to pass a variable number of keyword arguments. collected as a dictionary inside the function.\n",
    "def print_details(**kwargs):\n",
    "    for key, value in kwargs.items():\n",
    "        print(f\"{key}: {value}\")\n",
    "\n",
    "# Function Call\n",
    "print_details(name=\"Shubham Sharma\", age=19, city=\"Bilaspur (H.P)\")\n"
   ]
  },
  {
   "cell_type": "code",
   "execution_count": 10,
   "metadata": {},
   "outputs": [
    {
     "data": {
      "text/plain": [
       "25"
      ]
     },
     "execution_count": 10,
     "metadata": {},
     "output_type": "execute_result"
    }
   ],
   "source": [
    "# 6. Lambda Function:- defined using the lambda keyword. Typically used for small, one-line functions.\n",
    "square = lambda x: x * x\n",
    "\n",
    "# Function Call\n",
    "square(5)"
   ]
  },
  {
   "cell_type": "markdown",
   "metadata": {},
   "source": [
    "### 4. What is the purpose of the `return` statement in a Python function?\n",
    "    - The return statement in a Python function is used to exit the function and send a value back to the caller. It plays a crucial role in controlling the output of a function.\n",
    "    for e.g:- def function_name(parameters):\n",
    "                # Code block\n",
    "                return value\n",
    "\n",
    "### 5. What are iterators in Python and how do they differ from iterables?\n",
    "    - Iterators:- An iterator is an object that keeps track of its current position during iteration.\n",
    "    - Iterables:- An iterable is any Python object that can return its elements one at a time."
   ]
  },
  {
   "cell_type": "code",
   "execution_count": 11,
   "metadata": {},
   "outputs": [
    {
     "name": "stdout",
     "output_type": "stream",
     "text": [
      "1\n",
      "2\n",
      "3\n"
     ]
    }
   ],
   "source": [
    "# Iterable\n",
    "my_list = [1, 2, 3]\n",
    "iterator = iter(my_list)  # Converting iterable to iterator\n",
    "\n",
    "print(next(iterator))  # Output: 1\n",
    "print(next(iterator))  # Output: 2\n",
    "print(next(iterator))  # Output: 3"
   ]
  },
  {
   "cell_type": "markdown",
   "metadata": {},
   "source": [
    "### 6. Explain the concept of generators in Python and how they are defined.\n",
    "    - Generators are iterators that produce values on the fly. They are memory-efficient and return values one by one. Generators are defined using the yield keyword instead of return."
   ]
  },
  {
   "cell_type": "code",
   "execution_count": 12,
   "metadata": {},
   "outputs": [
    {
     "name": "stdout",
     "output_type": "stream",
     "text": [
      "5\n",
      "4\n"
     ]
    }
   ],
   "source": [
    "def countdown(n):\n",
    "    while n > 0:\n",
    "        yield n\n",
    "        n -= 1\n",
    "\n",
    "gen = countdown(5)\n",
    "print(next(gen))  # Output: 5\n",
    "print(next(gen))  # Output: 4\n"
   ]
  },
  {
   "cell_type": "markdown",
   "metadata": {},
   "source": [
    "### 7. What are the advantages of using generators over regular functions?\n",
    "    - Memory Efficiency: Generate values on demand rather than storing them all at once.\n",
    "    - Lazy Evaluation: Values are produced only when requested.\n",
    "    - Performance: Suitable for large datasets or infinite sequences.\n",
    "    - Readable Code: More concise and clear when dealing with sequences.\n",
    "\n",
    "### 8. What is a lambda function in Python and when is it typically used?\n",
    "    - A lambda function is an anonymous function defined using the lambda keyword. It is typically used for short, one-line functions.\n",
    "\n",
    "### 9. Explain the purpose and usage of the `map()` function in Python.\n",
    "    - The map() function applies a given function to each item in an iterable (like a list) and returns a map object.\n",
    "\n",
    "### 10. What is the difference between `map()`, `reduce()`, and `filter()` functions in Python?\n",
    "    - map():- The map() function is used to apply a given function to each item in an iterable (like a list or tuple) and returns a map object (which can be converted to a list or another iterable). Use map() when transforming data element-wise.\n",
    "    - reduce():- The reduce() function is used to apply a function cumulatively to the elements of an iterable, reducing the iterable to a single value. Use filter() when extracting elements based on a condition.\n",
    "    - filter():- The filter() function is used to filter out elements from an iterable based on a condition. Use reduce() when aggregating or combining all elements into one."
   ]
  },
  {
   "cell_type": "code",
   "execution_count": null,
   "metadata": {},
   "outputs": [],
   "source": [
    "\n"
   ]
  },
  {
   "cell_type": "markdown",
   "metadata": {},
   "source": [
    "# Practical Questions:"
   ]
  },
  {
   "cell_type": "code",
   "execution_count": 18,
   "metadata": {},
   "outputs": [
    {
     "name": "stdout",
     "output_type": "stream",
     "text": [
      "Sum of even numbers: 30\n"
     ]
    }
   ],
   "source": [
    "# 1. Write a Python function that takes a list of numbers as input and returns the sum of all even numbers in the list.\n",
    "\n",
    "def sum_of_even_numbers(numbers):\n",
    "    even_sum = sum(num for num in numbers if num % 2 == 0)\n",
    "    return even_sum\n",
    "\n",
    "numbers = [1, 2, 3, 4, 5, 6, 7, 8, 9, 10]\n",
    "print(\"Sum of even numbers:\", sum_of_even_numbers(numbers))"
   ]
  },
  {
   "cell_type": "code",
   "execution_count": 19,
   "metadata": {},
   "outputs": [
    {
     "name": "stdout",
     "output_type": "stream",
     "text": [
      "Reversed string: !dlroW ,olleH\n"
     ]
    }
   ],
   "source": [
    "# 2. Create a Python function that accepts a string and returns the reverse of that string.\n",
    "\n",
    "def reverse_string(s):\n",
    "    return s[::-1]\n",
    "\n",
    "# Example usage\n",
    "text = \"Hello, World!\"\n",
    "print(\"Reversed string:\", reverse_string(text))\n"
   ]
  },
  {
   "cell_type": "code",
   "execution_count": null,
   "metadata": {},
   "outputs": [
    {
     "name": "stdout",
     "output_type": "stream",
     "text": [
      "Squared numbers: [1, 4, 9, 16, 25]\n"
     ]
    }
   ],
   "source": [
    "# 3. Implement a Python function that takes a list of integers and returns a new list containing the squares of each number.\n",
    "\n",
    "def square_numbers(numbers):\n",
    "    return [num ** 2 for num in numbers]\n",
    "\n",
    "# Example usage\n",
    "numbers = [1, 2, 3, 4, 5]\n",
    "print(\"Squared numbers:\", square_numbers(numbers))"
   ]
  },
  {
   "cell_type": "code",
   "execution_count": 23,
   "metadata": {},
   "outputs": [
    {
     "name": "stdout",
     "output_type": "stream",
     "text": [
      "Prime numbers from 1 to 200:\n",
      "2 3 5 7 11 13 17 19 23 29 31 37 41 43 47 53 59 61 67 71 73 79 83 89 97 101 103 107 109 113 127 131 137 139 149 151 157 163 167 173 179 181 191 193 197 199 "
     ]
    }
   ],
   "source": [
    "# 4. Write a Python function that checks if a given number is prime or not from 1 to 200\n",
    "def is_prime(num):\n",
    "    if num < 2:\n",
    "        return False\n",
    "    for i in range(2, int(num ** 0.5) + 1):\n",
    "        if num % i == 0:\n",
    "            return False\n",
    "    return True\n",
    "\n",
    "# Checking prime numbers from 1 to 200\n",
    "print(\"Prime numbers from 1 to 200:\")\n",
    "for number in range(1, 201):\n",
    "    if is_prime(number):\n",
    "        print(number, end=\" \")\n"
   ]
  },
  {
   "cell_type": "code",
   "execution_count": 24,
   "metadata": {},
   "outputs": [
    {
     "name": "stdout",
     "output_type": "stream",
     "text": [
      "Fibonacci sequence (first 10 terms):\n",
      "0 1 1 2 3 5 8 13 21 34 "
     ]
    }
   ],
   "source": [
    "# 5. Create an iterator class in Python that generates the Fibonacci sequence up to a specified number of terms\n",
    "def fibonacci(n):\n",
    "    a, b = 0, 1\n",
    "    for _ in range(n):\n",
    "        print(a, end=\" \")\n",
    "        a, b = b, a + b\n",
    "\n",
    "# Example usage\n",
    "num_terms = 10\n",
    "print(f\"Fibonacci sequence (first {num_terms} terms):\")\n",
    "fibonacci(num_terms)"
   ]
  },
  {
   "cell_type": "code",
   "execution_count": 25,
   "metadata": {},
   "outputs": [
    {
     "name": "stdout",
     "output_type": "stream",
     "text": [
      "Powers of 2 up to exponent 5:\n",
      "1 2 4 8 16 32 "
     ]
    }
   ],
   "source": [
    "# 6. Write a generator function in Python that yields the powers of 2 up to a given exponent.\n",
    "\n",
    "def powers_of_two(n):\n",
    "    for exponent in range(n + 1):\n",
    "        yield 2 ** exponent\n",
    "\n",
    "# Example usage\n",
    "max_exponent = 5\n",
    "print(f\"Powers of 2 up to exponent {max_exponent}:\")\n",
    "for power in powers_of_two(max_exponent):\n",
    "    print(power, end=\" \")\n"
   ]
  },
  {
   "cell_type": "code",
   "execution_count": 27,
   "metadata": {},
   "outputs": [
    {
     "name": "stdout",
     "output_type": "stream",
     "text": [
      "Hi How Are You ?"
     ]
    }
   ],
   "source": [
    "# 7. Implement a generator function that reads a file line by line and yields each line as a string.\n",
    "def read_lines(file_path):\n",
    "    with open(file_path, 'r') as file:\n",
    "        for line in file:\n",
    "            yield line\n",
    "\n",
    "# Example usage\n",
    "file_path = \"example.txt\"\n",
    "for line in read_lines(file_path):\n",
    "    print(line, end=\"\")\n"
   ]
  },
  {
   "cell_type": "code",
   "execution_count": 28,
   "metadata": {},
   "outputs": [
    {
     "name": "stdout",
     "output_type": "stream",
     "text": [
      "Sorted list based on the second element:\n",
      "[(3, 1), (6, 2), (2, 3), (1, 5), (4, 7)]\n"
     ]
    }
   ],
   "source": [
    "# 8. Use a lambda function in Python to sort a list of tuples based on the second element of each tuple.\n",
    "# List of tuples\n",
    "tuples_list = [(1, 5), (3, 1), (4, 7), (2, 3), (6, 2)]\n",
    "\n",
    "# Sorting the list based on the second element of each tuple\n",
    "sorted_list = sorted(tuples_list, key=lambda x: x[1])\n",
    "\n",
    "print(\"Sorted list based on the second element:\")\n",
    "print(sorted_list)\n"
   ]
  },
  {
   "cell_type": "code",
   "execution_count": 29,
   "metadata": {},
   "outputs": [
    {
     "name": "stdout",
     "output_type": "stream",
     "text": [
      "Temperatures in Fahrenheit:\n",
      "[32.0, 68.0, 77.0, 86.0, 98.6, 212.0]\n"
     ]
    }
   ],
   "source": [
    "# 9. Write a Python program that uses `map()` to convert a list of temperatures from Celsius to Fahrenheit.\n",
    "\n",
    "# Celsius to Fahrenheit conversion function\n",
    "def celsius_to_fahrenheit(celsius):\n",
    "    return (celsius * 9/5) + 32\n",
    "\n",
    "# List of temperatures in Celsius\n",
    "celsius_temps = [0, 20, 25, 30, 37, 100]\n",
    "\n",
    "# Using map() to convert Celsius to Fahrenheit\n",
    "fahrenheit_temps = list(map(celsius_to_fahrenheit, celsius_temps))\n",
    "\n",
    "print(\"Temperatures in Fahrenheit:\")\n",
    "print(fahrenheit_temps)\n"
   ]
  },
  {
   "cell_type": "code",
   "execution_count": 30,
   "metadata": {},
   "outputs": [
    {
     "name": "stdout",
     "output_type": "stream",
     "text": [
      "String without vowels:\n",
      "Hll, Wrld!\n"
     ]
    }
   ],
   "source": [
    "# 10. Create a Python program that uses `filter()` to remove all the vowels from a given string.\n",
    "\n",
    "# Function to check if a character is not a vowel\n",
    "def is_not_vowel(char):\n",
    "    vowels = \"aeiouAEIOU\"\n",
    "    return char not in vowels\n",
    "\n",
    "# Input string\n",
    "input_string = \"Hello, World!\"\n",
    "\n",
    "# Using filter() to remove vowels\n",
    "result = \"\".join(filter(is_not_vowel, input_string))\n",
    "\n",
    "print(\"String without vowels:\")\n",
    "print(result)\n"
   ]
  },
  {
   "cell_type": "code",
   "execution_count": 31,
   "metadata": {},
   "outputs": [
    {
     "name": "stdout",
     "output_type": "stream",
     "text": [
      "Order Number and Total Price:\n",
      "(34587, 163.8)\n",
      "(98762, 284.0)\n",
      "(77226, 108.85)\n",
      "(88112, 84.97)\n"
     ]
    }
   ],
   "source": [
    "# Write a Python program, which returns a list with 2-tuples. Each tuple consists of the order number and the\n",
    "# product of the price per item and the quantity. The product should be increased by 10,- € if the value of the\n",
    "# order is smaller than 100,00 €.\n",
    "\n",
    "# Write a Python program using lambda and map.\n",
    "\n",
    "# Book orders data\n",
    "orders = [\n",
    "    (34587, \"Learning Python, Mark Lutz\", 4, 40.95),\n",
    "    (98762, \"Programming Python, Mark Lutz\", 5, 56.80),\n",
    "    (77226, \"Head First Python, Paul Barry\", 3, 32.95),\n",
    "    (88112, \"Einführung in Python3, Bernd Klein\", 3, 24.99)\n",
    "]\n",
    "\n",
    "# Using map() and lambda to calculate the final product price\n",
    "result = list(map(lambda x: (x[0], round(x[2] * x[3] + (10 if x[2] * x[3] < 100 else 0), 2)), orders))\n",
    "\n",
    "# Printing the result\n",
    "print(\"Order Number and Total Price:\")\n",
    "for item in result:\n",
    "    print(item)\n"
   ]
  }
 ],
 "metadata": {
  "kernelspec": {
   "display_name": "Python 3",
   "language": "python",
   "name": "python3"
  },
  "language_info": {
   "codemirror_mode": {
    "name": "ipython",
    "version": 3
   },
   "file_extension": ".py",
   "mimetype": "text/x-python",
   "name": "python",
   "nbconvert_exporter": "python",
   "pygments_lexer": "ipython3",
   "version": "3.11.9"
  }
 },
 "nbformat": 4,
 "nbformat_minor": 2
}
